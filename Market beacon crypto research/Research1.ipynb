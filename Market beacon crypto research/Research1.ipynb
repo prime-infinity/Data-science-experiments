{
 "cells": [
  {
   "cell_type": "code",
   "execution_count": 1,
   "id": "4124c9c2",
   "metadata": {},
   "outputs": [],
   "source": [
    "#in this research, we have collected a top list of 100 crypto assets based on market cap from the cryptocompare API.\n",
    "#we have also used this top list to get daily historical data of all the crypto assets. This data is in the \"/Data folder\".\n",
    "\n",
    "#the first purpose of our research will be to find out the optimal point to buy alt coins based on the position of BTC,\n",
    "#this research is purely technical in nature."
   ]
  },
  {
   "cell_type": "code",
   "execution_count": 2,
   "id": "7efa6bba",
   "metadata": {},
   "outputs": [],
   "source": [
    "#we first import pandas, pandas is used for data exploration and manipulation\n",
    "import pandas as pd"
   ]
  },
  {
   "cell_type": "code",
   "execution_count": 10,
   "id": "0995ff14",
   "metadata": {},
   "outputs": [],
   "source": [
    "#read top list data\n",
    "top_list_data = pd.read_csv('Data/top_coins.csv')"
   ]
  },
  {
   "cell_type": "code",
   "execution_count": 20,
   "id": "1dbe67d9",
   "metadata": {},
   "outputs": [
    {
     "name": "stdout",
     "output_type": "stream",
     "text": [
      "First 10 rows:\n",
      "   Name     MaxSupply\n",
      "0   BTC  2.100000e+07\n",
      "1   ETH -1.000000e+00\n",
      "2   XRP  1.000000e+11\n",
      "3  USDT -1.000000e+00\n",
      "4   SOL -1.000000e+00\n",
      "5   BNB  1.000000e+08\n",
      "6  DOGE -1.000000e+00\n",
      "7   ADA  4.500000e+10\n",
      "8   SUI -1.000000e+00\n",
      "9  USDC -1.000000e+00\n"
     ]
    }
   ],
   "source": [
    "print(\"First 10 rows:\")\n",
    "print(top_list_data.head(10))"
   ]
  },
  {
   "cell_type": "code",
   "execution_count": null,
   "id": "1c0a4bd5",
   "metadata": {},
   "outputs": [],
   "source": [
    "#todo: look at the daily charts manually and see if you should aggregrate them to weekly or monthly,\n",
    "#start by printing the daily and the aggregrated weekly and then the aggr"
   ]
  }
 ],
 "metadata": {
  "kernelspec": {
   "display_name": "Python 3 (ipykernel)",
   "language": "python",
   "name": "python3"
  },
  "language_info": {
   "codemirror_mode": {
    "name": "ipython",
    "version": 3
   },
   "file_extension": ".py",
   "mimetype": "text/x-python",
   "name": "python",
   "nbconvert_exporter": "python",
   "pygments_lexer": "ipython3",
   "version": "3.9.13"
  }
 },
 "nbformat": 4,
 "nbformat_minor": 5
}
